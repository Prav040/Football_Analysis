{
 "cells": [
  {
   "cell_type": "code",
   "execution_count": 5,
   "metadata": {},
   "outputs": [],
   "source": [
    "import pandas as pd\n",
    "import glob\n",
    "import os"
   ]
  },
  {
   "cell_type": "code",
   "execution_count": 28,
   "metadata": {},
   "outputs": [
    {
     "data": {
      "text/plain": [
       "'c:\\\\Users\\\\SPrav\\\\Dropbox\\\\Mein PC (DESKTOP-7362O01)\\\\Desktop\\\\Data Scrapping\\\\Bundesliga\\\\xG_Bundesliga\\\\Raw_Player_Stats'"
      ]
     },
     "execution_count": 28,
     "metadata": {},
     "output_type": "execute_result"
    }
   ],
   "source": [
    "path = os.getcwd()\n",
    "path = path +'\\\\xG_Bundesliga\\\\Raw_Player_Stats'\n",
    "\n",
    "filenames = glob.glob(path + \"\\*.xlsx\")\n",
    "\n",
    "season = filenames[0].split(\"xG_Bundesliga\\\\\")[1].split(\"_\")[0]\n",
    "dfs = []\n",
    "for file in filenames:\n",
    "\n",
    "    dfs.append(pd.read_excel(file, index_col=0))\n",
    "dfs[0]\n",
    "\n",
    "new_df = pd.concat(dfs)\n",
    "new_df.to_csv(path + season + '_xG.csv')"
   ]
  }
 ],
 "metadata": {
  "kernelspec": {
   "display_name": "Python 3.9.7 ('base')",
   "language": "python",
   "name": "python3"
  },
  "language_info": {
   "codemirror_mode": {
    "name": "ipython",
    "version": 3
   },
   "file_extension": ".py",
   "mimetype": "text/x-python",
   "name": "python",
   "nbconvert_exporter": "python",
   "pygments_lexer": "ipython3",
   "version": "3.9.7"
  },
  "orig_nbformat": 4,
  "vscode": {
   "interpreter": {
    "hash": "552690dd29b482a2ee04ad8d62a9227ac8156367031691b8f434fc2a05eb611a"
   }
  }
 },
 "nbformat": 4,
 "nbformat_minor": 2
}
