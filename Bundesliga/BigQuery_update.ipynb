{
 "cells": [
  {
   "cell_type": "code",
   "execution_count": 1,
   "metadata": {},
   "outputs": [],
   "source": [
    "import pandas as pd\n",
    "from pandas.io import gbq\n",
    "import os"
   ]
  },
  {
   "cell_type": "code",
   "execution_count": 2,
   "metadata": {},
   "outputs": [
    {
     "data": {
      "text/html": [
       "<div>\n",
       "<style scoped>\n",
       "    .dataframe tbody tr th:only-of-type {\n",
       "        vertical-align: middle;\n",
       "    }\n",
       "\n",
       "    .dataframe tbody tr th {\n",
       "        vertical-align: top;\n",
       "    }\n",
       "\n",
       "    .dataframe thead th {\n",
       "        text-align: right;\n",
       "    }\n",
       "</style>\n",
       "<table border=\"1\" class=\"dataframe\">\n",
       "  <thead>\n",
       "    <tr style=\"text-align: right;\">\n",
       "      <th></th>\n",
       "      <th>team</th>\n",
       "      <th>match_result</th>\n",
       "      <th>goals</th>\n",
       "      <th>xG</th>\n",
       "      <th>shots</th>\n",
       "      <th>shots_on_Target</th>\n",
       "      <th>actual_Points</th>\n",
       "      <th>xPTS</th>\n",
       "      <th>match_id</th>\n",
       "    </tr>\n",
       "  </thead>\n",
       "  <tbody>\n",
       "    <tr>\n",
       "      <th>0</th>\n",
       "      <td>Borussia M.Gladbach</td>\n",
       "      <td>D</td>\n",
       "      <td>1</td>\n",
       "      <td>1.99</td>\n",
       "      <td>11</td>\n",
       "      <td>4</td>\n",
       "      <td>1</td>\n",
       "      <td>0.81</td>\n",
       "      <td>17516</td>\n",
       "    </tr>\n",
       "    <tr>\n",
       "      <th>1</th>\n",
       "      <td>Bayern Munich</td>\n",
       "      <td>D</td>\n",
       "      <td>1</td>\n",
       "      <td>2.92</td>\n",
       "      <td>21</td>\n",
       "      <td>9</td>\n",
       "      <td>1</td>\n",
       "      <td>1.99</td>\n",
       "      <td>17516</td>\n",
       "    </tr>\n",
       "    <tr>\n",
       "      <th>0</th>\n",
       "      <td>Arminia Bielefeld</td>\n",
       "      <td>D</td>\n",
       "      <td>0</td>\n",
       "      <td>0.58</td>\n",
       "      <td>10</td>\n",
       "      <td>3</td>\n",
       "      <td>1</td>\n",
       "      <td>0.52</td>\n",
       "      <td>17517</td>\n",
       "    </tr>\n",
       "    <tr>\n",
       "      <th>1</th>\n",
       "      <td>Freiburg</td>\n",
       "      <td>D</td>\n",
       "      <td>0</td>\n",
       "      <td>1.64</td>\n",
       "      <td>15</td>\n",
       "      <td>5</td>\n",
       "      <td>1</td>\n",
       "      <td>2.25</td>\n",
       "      <td>17517</td>\n",
       "    </tr>\n",
       "    <tr>\n",
       "      <th>0</th>\n",
       "      <td>Augsburg</td>\n",
       "      <td>L</td>\n",
       "      <td>0</td>\n",
       "      <td>0.73</td>\n",
       "      <td>7</td>\n",
       "      <td>0</td>\n",
       "      <td>0</td>\n",
       "      <td>0.09</td>\n",
       "      <td>17518</td>\n",
       "    </tr>\n",
       "    <tr>\n",
       "      <th>1</th>\n",
       "      <td>Hoffenheim</td>\n",
       "      <td>W</td>\n",
       "      <td>4</td>\n",
       "      <td>3.44</td>\n",
       "      <td>15</td>\n",
       "      <td>8</td>\n",
       "      <td>3</td>\n",
       "      <td>2.87</td>\n",
       "      <td>17518</td>\n",
       "    </tr>\n",
       "    <tr>\n",
       "      <th>0</th>\n",
       "      <td>VfB Stuttgart</td>\n",
       "      <td>W</td>\n",
       "      <td>5</td>\n",
       "      <td>4.26</td>\n",
       "      <td>31</td>\n",
       "      <td>15</td>\n",
       "      <td>3</td>\n",
       "      <td>2.77</td>\n",
       "      <td>17519</td>\n",
       "    </tr>\n",
       "  </tbody>\n",
       "</table>\n",
       "</div>"
      ],
      "text/plain": [
       "                  team match_result  goals    xG  shots  shots_on_Target  \\\n",
       "0  Borussia M.Gladbach            D      1  1.99     11                4   \n",
       "1        Bayern Munich            D      1  2.92     21                9   \n",
       "0    Arminia Bielefeld            D      0  0.58     10                3   \n",
       "1             Freiburg            D      0  1.64     15                5   \n",
       "0             Augsburg            L      0  0.73      7                0   \n",
       "1           Hoffenheim            W      4  3.44     15                8   \n",
       "0        VfB Stuttgart            W      5  4.26     31               15   \n",
       "\n",
       "   actual_Points  xPTS  match_id  \n",
       "0              1  0.81     17516  \n",
       "1              1  1.99     17516  \n",
       "0              1  0.52     17517  \n",
       "1              1  2.25     17517  \n",
       "0              0  0.09     17518  \n",
       "1              3  2.87     17518  \n",
       "0              3  2.77     17519  "
      ]
     },
     "execution_count": 2,
     "metadata": {},
     "output_type": "execute_result"
    }
   ],
   "source": [
    "path = os.getcwd()\n",
    "data = pd.read_csv(path + '\\\\xG_Bundesliga\\\\Raw_Match_Stats\\\\2022_match_stats.csv', index_col=0)\n",
    "data.head(7)"
   ]
  },
  {
   "cell_type": "code",
   "execution_count": 4,
   "metadata": {},
   "outputs": [
    {
     "name": "stderr",
     "output_type": "stream",
     "text": [
      "100%|██████████| 1/1 [00:00<?, ?it/s]\n"
     ]
    }
   ],
   "source": [
    "data.to_gbq(destination_table='bundesliga_xG.match_stats2022',\n",
    "project_id='sport-analytics-364211',\n",
    "if_exists='replace')"
   ]
  },
  {
   "cell_type": "code",
   "execution_count": null,
   "metadata": {},
   "outputs": [],
   "source": []
  }
 ],
 "metadata": {
  "kernelspec": {
   "display_name": "Python 3.9.7 ('base')",
   "language": "python",
   "name": "python3"
  },
  "language_info": {
   "codemirror_mode": {
    "name": "ipython",
    "version": 3
   },
   "file_extension": ".py",
   "mimetype": "text/x-python",
   "name": "python",
   "nbconvert_exporter": "python",
   "pygments_lexer": "ipython3",
   "version": "3.9.7"
  },
  "orig_nbformat": 4,
  "vscode": {
   "interpreter": {
    "hash": "552690dd29b482a2ee04ad8d62a9227ac8156367031691b8f434fc2a05eb611a"
   }
  }
 },
 "nbformat": 4,
 "nbformat_minor": 2
}
